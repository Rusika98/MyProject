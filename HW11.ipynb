{
  "nbformat": 4,
  "nbformat_minor": 0,
  "metadata": {
    "colab": {
      "name": "HW11",
      "provenance": []
    },
    "kernelspec": {
      "name": "python3",
      "display_name": "Python 3"
    },
    "language_info": {
      "name": "python"
    }
  },
  "cells": [
    {
      "cell_type": "code",
      "metadata": {
        "id": "MGG-Dl-dew7u"
      },
      "source": [
        "import math\n",
        "import numpy as np"
      ],
      "execution_count": 73,
      "outputs": []
    },
    {
      "cell_type": "markdown",
      "metadata": {
        "id": "z-WQiMlahTir"
      },
      "source": [
        "Question 3\n"
      ]
    },
    {
      "cell_type": "markdown",
      "metadata": {
        "id": "ytt8s5P-hZgL"
      },
      "source": [
        "Part A"
      ]
    },
    {
      "cell_type": "code",
      "metadata": {
        "id": "MvE6YzCse5lU"
      },
      "source": [
        "def quadroots (a,b,c ):\n",
        "   root = math.sqrt((b*b)-(4*a*c)) #root calculation\n",
        "   if root<0:\n",
        "      print ('DNE')\n",
        "   else:\n",
        "    r1=(-b+root)/(2*a) #root 1\n",
        "    r2=(-b-root)/(2*a) #root 2\n",
        "    return r1,r2\n",
        "    \n",
        "  "
      ],
      "execution_count": 74,
      "outputs": []
    },
    {
      "cell_type": "markdown",
      "metadata": {
        "id": "xVKfLggwhdSa"
      },
      "source": [
        "Part B"
      ]
    },
    {
      "cell_type": "code",
      "metadata": {
        "colab": {
          "base_uri": "https://localhost:8080/"
        },
        "id": "WdYEFw9ag7Fw",
        "outputId": "246adf98-79dd-4842-9a8b-7fcbb50fe67b"
      },
      "source": [
        "quadroots(2,6,-3)"
      ],
      "execution_count": 75,
      "outputs": [
        {
          "output_type": "execute_result",
          "data": {
            "text/plain": [
              "(0.4364916731037085, -3.4364916731037085)"
            ]
          },
          "metadata": {},
          "execution_count": 75
        }
      ]
    },
    {
      "cell_type": "code",
      "metadata": {
        "colab": {
          "base_uri": "https://localhost:8080/"
        },
        "id": "FJdwqD-Rhn8W",
        "outputId": "56f0dd0c-2e58-4463-da32-f9a2d7b0246f"
      },
      "source": [
        "quadroots(1,-14,49)"
      ],
      "execution_count": 76,
      "outputs": [
        {
          "output_type": "execute_result",
          "data": {
            "text/plain": [
              "(7.0, 7.0)"
            ]
          },
          "metadata": {},
          "execution_count": 76
        }
      ]
    },
    {
      "cell_type": "code",
      "metadata": {
        "colab": {
          "base_uri": "https://localhost:8080/"
        },
        "id": "gdYC70sOiF5l",
        "outputId": "584ad128-b66a-4000-8695-354fb6c060c1"
      },
      "source": [
        "quadroots(3,-1234554321,2)"
      ],
      "execution_count": 77,
      "outputs": [
        {
          "output_type": "execute_result",
          "data": {
            "text/plain": [
              "(411518107.0, 0.0)"
            ]
          },
          "metadata": {},
          "execution_count": 77
        }
      ]
    },
    {
      "cell_type": "markdown",
      "metadata": {
        "id": "3VoAbJqqxIVL"
      },
      "source": [
        "The results of the 3rd polynomial tends to be bad as the 'b' value is taking a large figure."
      ]
    },
    {
      "cell_type": "code",
      "metadata": {
        "id": "wWdndlDjkETP"
      },
      "source": [
        ""
      ],
      "execution_count": 77,
      "outputs": []
    },
    {
      "cell_type": "markdown",
      "metadata": {
        "id": "idGKp30-kFRZ"
      },
      "source": [
        "Part C"
      ]
    },
    {
      "cell_type": "code",
      "metadata": {
        "id": "z6R32hRukJiC"
      },
      "source": [
        "def smartquadroots (a,b,c):\n",
        "  root = math.sqrt((b*b)-(4*a*c))\n",
        "  r1= (-b+root)/(2*a) #root1\n",
        "  r2= (-b-root)/(2*a) #root2\n",
        "  prod_roots = r1*r2 #calculating root products \n",
        "  c_a= c/a \n",
        "\n",
        "  if abs (abs(prod_roots)-c_a)>0.0001 and c!=0:\n",
        "    if abs(r1)>abs(r2):\n",
        "      r2=c/(a*r1)\n",
        "    else:\n",
        "      r1=c/(a*r2)\n",
        "  return r1,r2\n",
        "\n",
        "  \n",
        "   \n",
        "\n",
        "\n"
      ],
      "execution_count": 78,
      "outputs": []
    },
    {
      "cell_type": "code",
      "metadata": {
        "colab": {
          "base_uri": "https://localhost:8080/"
        },
        "id": "DupC_HlWpVcD",
        "outputId": "ee76a747-bb36-4c7f-9495-c38b04e054ab"
      },
      "source": [
        "smartquadroots(3,-1234554321,2)"
      ],
      "execution_count": 79,
      "outputs": [
        {
          "output_type": "execute_result",
          "data": {
            "text/plain": [
              "(411518107.0, 1.6200178201798218e-09)"
            ]
          },
          "metadata": {},
          "execution_count": 79
        }
      ]
    },
    {
      "cell_type": "code",
      "metadata": {
        "colab": {
          "base_uri": "https://localhost:8080/"
        },
        "id": "lQMwKABhkKCk",
        "outputId": "b0cbe2a7-536a-45a8-b246-605b9342ed72"
      },
      "source": [
        "np.roots([3,-1234554321,2])"
      ],
      "execution_count": 80,
      "outputs": [
        {
          "output_type": "execute_result",
          "data": {
            "text/plain": [
              "array([4.11518107e+08, 1.62001782e-09])"
            ]
          },
          "metadata": {},
          "execution_count": 80
        }
      ]
    },
    {
      "cell_type": "markdown",
      "metadata": {
        "id": "NpbufPcXxmdU"
      },
      "source": [
        "The accuracy of the smart quad function tends to be quite as it is almost equal to the numpy inbuilt function"
      ]
    },
    {
      "cell_type": "code",
      "metadata": {
        "id": "2YmhKnCdqalV"
      },
      "source": [
        ""
      ],
      "execution_count": 80,
      "outputs": []
    },
    {
      "cell_type": "markdown",
      "metadata": {
        "id": "rlfyP7y6qhBi"
      },
      "source": [
        "Question 5 "
      ]
    },
    {
      "cell_type": "code",
      "metadata": {
        "id": "YiI8wabBqkC7"
      },
      "source": [
        "def factorial (x):\n",
        "  if x==0:\n",
        "    return 1\n",
        "  if x==1:\n",
        "    return 1\n",
        "  else:\n",
        "    return x*factorial(x-1)\n",
        "\n",
        "def sinTaylor(x):\n",
        "   sn =x\n",
        "   n =3 \n",
        "   while True:\n",
        "     sn1 = sn \n",
        "     sn += (-1)**(((n-1)/2)%2)*(x**n)/factorial (n)\n",
        "     err= abs((sn-sn1)/sn1)\n",
        "     if err <= 0.000001:\n",
        "       return sn\n",
        "     else:\n",
        "       n+=2"
      ],
      "execution_count": 81,
      "outputs": []
    },
    {
      "cell_type": "code",
      "metadata": {
        "colab": {
          "base_uri": "https://localhost:8080/"
        },
        "id": "yrtWkJQasNGT",
        "outputId": "67e04a6c-ecfc-4082-ab04-b4ead765b28e"
      },
      "source": [
        "sinTaylor (65*np.pi/180)"
      ],
      "execution_count": 82,
      "outputs": [
        {
          "output_type": "execute_result",
          "data": {
            "text/plain": [
              "0.9063077862137597"
            ]
          },
          "metadata": {},
          "execution_count": 82
        }
      ]
    },
    {
      "cell_type": "code",
      "metadata": {
        "colab": {
          "base_uri": "https://localhost:8080/"
        },
        "id": "leW4XbGps6hE",
        "outputId": "72d7f06a-db24-4baa-905f-d279bab9b4c1"
      },
      "source": [
        "np.sin (65*np.pi/180)"
      ],
      "execution_count": 83,
      "outputs": [
        {
          "output_type": "execute_result",
          "data": {
            "text/plain": [
              "0.9063077870366499"
            ]
          },
          "metadata": {},
          "execution_count": 83
        }
      ]
    },
    {
      "cell_type": "code",
      "metadata": {
        "colab": {
          "base_uri": "https://localhost:8080/"
        },
        "id": "pNM9YcOJtGzX",
        "outputId": "ea7e42f1-7b42-4518-d788-32c4f9515920"
      },
      "source": [
        "sinTaylor (195*np.pi/180)"
      ],
      "execution_count": 84,
      "outputs": [
        {
          "output_type": "execute_result",
          "data": {
            "text/plain": [
              "-0.2588190479335458"
            ]
          },
          "metadata": {},
          "execution_count": 84
        }
      ]
    },
    {
      "cell_type": "code",
      "metadata": {
        "colab": {
          "base_uri": "https://localhost:8080/"
        },
        "id": "FI8TWukjv40I",
        "outputId": "966da263-1ab0-4f68-dc7a-843639ae27e1"
      },
      "source": [
        "np.sin (195*np.pi/180)"
      ],
      "execution_count": 85,
      "outputs": [
        {
          "output_type": "execute_result",
          "data": {
            "text/plain": [
              "-0.25881904510252035"
            ]
          },
          "metadata": {},
          "execution_count": 85
        }
      ]
    },
    {
      "cell_type": "markdown",
      "metadata": {
        "id": "Zk6HPrqNwkt8"
      },
      "source": [
        "The values of the SinTaylor function is almost equal to the numpy inbuilt function to almost 7 decimal places."
      ]
    }
  ]
}